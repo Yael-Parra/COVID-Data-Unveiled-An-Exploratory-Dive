{
 "cells": [
  {
   "cell_type": "markdown",
   "metadata": {},
   "source": [
    "# 🧼  <span style=\"color:#f6f794\"> Data Analysis </span>\n",
    "___"
   ]
  },
  {
   "cell_type": "markdown",
   "metadata": {},
   "source": [
    "#### 📚 <span style=\"color:#f6f794\"> Importing libraries and setting displays </span>"
   ]
  },
  {
   "cell_type": "code",
   "execution_count": 1,
   "metadata": {},
   "outputs": [],
   "source": [
    "import pandas as pd\n",
    "import numpy as np\n",
    "import os\n",
    "import re\n",
    "import numpy as np\n",
    "from sklearn.impute import KNNImputer\n",
    "from sklearn.linear_model import LinearRegression\n",
    "from sklearn.experimental import enable_iterative_imputer\n",
    "from sklearn.impute import IterativeImputer\n",
    "from scipy.stats import ks_2samp\n",
    "\n",
    "\n",
    "import matplotlib.pyplot as plt \n",
    "import seaborn as sns"
   ]
  },
  {
   "cell_type": "code",
   "execution_count": 2,
   "metadata": {},
   "outputs": [],
   "source": [
    "pd.set_option('display.max_rows', 100) \n",
    "pd.set_option('display.max_columns', None) \n",
    "\n",
    "# pd.set_option('display.max_columns', None)  # Show all columns\n",
    "# pd.set_option('display.max_rows', None)     # Show all rows\n",
    "# pd.set_option('display.max_colwidth', None) # Show entire content of each column\n",
    "pd.set_option('display.width', None)        # No limit on display width\n",
    "pd.set_option('display.expand_frame_repr', False)  # Prevent wrapping"
   ]
  },
  {
   "cell_type": "markdown",
   "metadata": {},
   "source": [
    "#### 📂 <span style=\"color:#f6f794\"> Opening files and create dataframes of them </span>"
   ]
  },
  {
   "cell_type": "code",
   "execution_count": 4,
   "metadata": {},
   "outputs": [
    {
     "data": {
      "application/vnd.microsoft.datawrangler.viewer.v0+json": {
       "columns": [
        {
         "name": "date",
         "rawType": "object",
         "type": "string"
        },
        {
         "name": "state",
         "rawType": "object",
         "type": "string"
        },
        {
         "name": "state_name",
         "rawType": "object",
         "type": "string"
        },
        {
         "name": "positive",
         "rawType": "float64",
         "type": "float"
        },
        {
         "name": "probable_cases",
         "rawType": "float64",
         "type": "float"
        },
        {
         "name": "negative",
         "rawType": "float64",
         "type": "float"
        },
        {
         "name": "total_test_results",
         "rawType": "float64",
         "type": "float"
        },
        {
         "name": "hospitalized_currently",
         "rawType": "float64",
         "type": "float"
        },
        {
         "name": "hospitalized_cumulative",
         "rawType": "float64",
         "type": "float"
        },
        {
         "name": "in_icu_currently",
         "rawType": "float64",
         "type": "float"
        },
        {
         "name": "in_icu_cumulative",
         "rawType": "float64",
         "type": "float"
        },
        {
         "name": "recovered",
         "rawType": "float64",
         "type": "float"
        },
        {
         "name": "last_update_et",
         "rawType": "object",
         "type": "string"
        },
        {
         "name": "death",
         "rawType": "float64",
         "type": "float"
        },
        {
         "name": "death_confirmed",
         "rawType": "float64",
         "type": "float"
        },
        {
         "name": "death_probable",
         "rawType": "float64",
         "type": "float"
        },
        {
         "name": "positive_increase",
         "rawType": "int64",
         "type": "integer"
        },
        {
         "name": "total_test_results_increase",
         "rawType": "int64",
         "type": "integer"
        },
        {
         "name": "death_increase",
         "rawType": "int64",
         "type": "integer"
        },
        {
         "name": "hospitalized_increase",
         "rawType": "int64",
         "type": "integer"
        }
       ],
       "conversionMethod": "pd.DataFrame",
       "ref": "d212994c-8f47-4b9b-b16e-f4201522a322",
       "rows": [
        [
         "2020-06-04",
         "DE",
         "Delaware",
         "9746.0",
         null,
         "56163.0",
         "79033.0",
         "142.0",
         null,
         null,
         null,
         "5562.0",
         "2020-06-03 18:00:00",
         "483.0",
         "425.0",
         "58.0",
         "34",
         "1232",
         "8",
         "0"
        ],
        [
         "2020-11-13",
         "UT",
         "Utah",
         "145789.0",
         null,
         "1018942.0",
         "1567347.0",
         "492.0",
         "6591.0",
         "184.0",
         "1294.0",
         "100892.0",
         "2020-11-13 13:34:00",
         "701.0",
         null,
         null,
         "2150",
         "15697",
         "14",
         "104"
        ],
        [
         "2020-08-02",
         "OR",
         "Oregon",
         "18817.0",
         null,
         "390799.0",
         "644785.0",
         "208.0",
         "1607.0",
         "65.0",
         null,
         "3872.0",
         "2020-08-01 03:01:00",
         "325.0",
         null,
         null,
         "325",
         "9366",
         "3",
         "0"
        ],
        [
         "2020-09-20",
         "AZ",
         "Arizona",
         "214018.0",
         "4317.0",
         "1169906.0",
         "2035326.0",
         "472.0",
         "21876.0",
         "120.0",
         null,
         null,
         "2020-09-20 00:00:00",
         "5476.0",
         "5184.0",
         "292.0",
         "467",
         "8384",
         "9",
         "-6"
        ],
        [
         "2020-04-06",
         "MO",
         "Missouri",
         "2722.0",
         null,
         "27113.0",
         "31954.0",
         "439.0",
         null,
         null,
         null,
         null,
         "2020-04-06 16:28:00",
         "39.0",
         null,
         null,
         "355",
         "1103",
         "5",
         "0"
        ]
       ],
       "shape": {
        "columns": 19,
        "rows": 5
       }
      },
      "text/html": [
       "<div>\n",
       "<style scoped>\n",
       "    .dataframe tbody tr th:only-of-type {\n",
       "        vertical-align: middle;\n",
       "    }\n",
       "\n",
       "    .dataframe tbody tr th {\n",
       "        vertical-align: top;\n",
       "    }\n",
       "\n",
       "    .dataframe thead th {\n",
       "        text-align: right;\n",
       "    }\n",
       "</style>\n",
       "<table border=\"1\" class=\"dataframe\">\n",
       "  <thead>\n",
       "    <tr style=\"text-align: right;\">\n",
       "      <th></th>\n",
       "      <th>state</th>\n",
       "      <th>state_name</th>\n",
       "      <th>positive</th>\n",
       "      <th>probable_cases</th>\n",
       "      <th>negative</th>\n",
       "      <th>total_test_results</th>\n",
       "      <th>hospitalized_currently</th>\n",
       "      <th>hospitalized_cumulative</th>\n",
       "      <th>in_icu_currently</th>\n",
       "      <th>in_icu_cumulative</th>\n",
       "      <th>recovered</th>\n",
       "      <th>last_update_et</th>\n",
       "      <th>death</th>\n",
       "      <th>death_confirmed</th>\n",
       "      <th>death_probable</th>\n",
       "      <th>positive_increase</th>\n",
       "      <th>total_test_results_increase</th>\n",
       "      <th>death_increase</th>\n",
       "      <th>hospitalized_increase</th>\n",
       "    </tr>\n",
       "    <tr>\n",
       "      <th>date</th>\n",
       "      <th></th>\n",
       "      <th></th>\n",
       "      <th></th>\n",
       "      <th></th>\n",
       "      <th></th>\n",
       "      <th></th>\n",
       "      <th></th>\n",
       "      <th></th>\n",
       "      <th></th>\n",
       "      <th></th>\n",
       "      <th></th>\n",
       "      <th></th>\n",
       "      <th></th>\n",
       "      <th></th>\n",
       "      <th></th>\n",
       "      <th></th>\n",
       "      <th></th>\n",
       "      <th></th>\n",
       "      <th></th>\n",
       "    </tr>\n",
       "  </thead>\n",
       "  <tbody>\n",
       "    <tr>\n",
       "      <th>2020-06-04</th>\n",
       "      <td>DE</td>\n",
       "      <td>Delaware</td>\n",
       "      <td>9746.0</td>\n",
       "      <td>NaN</td>\n",
       "      <td>56163.0</td>\n",
       "      <td>79033.0</td>\n",
       "      <td>142.0</td>\n",
       "      <td>NaN</td>\n",
       "      <td>NaN</td>\n",
       "      <td>NaN</td>\n",
       "      <td>5562.0</td>\n",
       "      <td>2020-06-03 18:00:00</td>\n",
       "      <td>483.0</td>\n",
       "      <td>425.0</td>\n",
       "      <td>58.0</td>\n",
       "      <td>34</td>\n",
       "      <td>1232</td>\n",
       "      <td>8</td>\n",
       "      <td>0</td>\n",
       "    </tr>\n",
       "    <tr>\n",
       "      <th>2020-11-13</th>\n",
       "      <td>UT</td>\n",
       "      <td>Utah</td>\n",
       "      <td>145789.0</td>\n",
       "      <td>NaN</td>\n",
       "      <td>1018942.0</td>\n",
       "      <td>1567347.0</td>\n",
       "      <td>492.0</td>\n",
       "      <td>6591.0</td>\n",
       "      <td>184.0</td>\n",
       "      <td>1294.0</td>\n",
       "      <td>100892.0</td>\n",
       "      <td>2020-11-13 13:34:00</td>\n",
       "      <td>701.0</td>\n",
       "      <td>NaN</td>\n",
       "      <td>NaN</td>\n",
       "      <td>2150</td>\n",
       "      <td>15697</td>\n",
       "      <td>14</td>\n",
       "      <td>104</td>\n",
       "    </tr>\n",
       "    <tr>\n",
       "      <th>2020-08-02</th>\n",
       "      <td>OR</td>\n",
       "      <td>Oregon</td>\n",
       "      <td>18817.0</td>\n",
       "      <td>NaN</td>\n",
       "      <td>390799.0</td>\n",
       "      <td>644785.0</td>\n",
       "      <td>208.0</td>\n",
       "      <td>1607.0</td>\n",
       "      <td>65.0</td>\n",
       "      <td>NaN</td>\n",
       "      <td>3872.0</td>\n",
       "      <td>2020-08-01 03:01:00</td>\n",
       "      <td>325.0</td>\n",
       "      <td>NaN</td>\n",
       "      <td>NaN</td>\n",
       "      <td>325</td>\n",
       "      <td>9366</td>\n",
       "      <td>3</td>\n",
       "      <td>0</td>\n",
       "    </tr>\n",
       "    <tr>\n",
       "      <th>2020-09-20</th>\n",
       "      <td>AZ</td>\n",
       "      <td>Arizona</td>\n",
       "      <td>214018.0</td>\n",
       "      <td>4317.0</td>\n",
       "      <td>1169906.0</td>\n",
       "      <td>2035326.0</td>\n",
       "      <td>472.0</td>\n",
       "      <td>21876.0</td>\n",
       "      <td>120.0</td>\n",
       "      <td>NaN</td>\n",
       "      <td>NaN</td>\n",
       "      <td>2020-09-20 00:00:00</td>\n",
       "      <td>5476.0</td>\n",
       "      <td>5184.0</td>\n",
       "      <td>292.0</td>\n",
       "      <td>467</td>\n",
       "      <td>8384</td>\n",
       "      <td>9</td>\n",
       "      <td>-6</td>\n",
       "    </tr>\n",
       "    <tr>\n",
       "      <th>2020-04-06</th>\n",
       "      <td>MO</td>\n",
       "      <td>Missouri</td>\n",
       "      <td>2722.0</td>\n",
       "      <td>NaN</td>\n",
       "      <td>27113.0</td>\n",
       "      <td>31954.0</td>\n",
       "      <td>439.0</td>\n",
       "      <td>NaN</td>\n",
       "      <td>NaN</td>\n",
       "      <td>NaN</td>\n",
       "      <td>NaN</td>\n",
       "      <td>2020-04-06 16:28:00</td>\n",
       "      <td>39.0</td>\n",
       "      <td>NaN</td>\n",
       "      <td>NaN</td>\n",
       "      <td>355</td>\n",
       "      <td>1103</td>\n",
       "      <td>5</td>\n",
       "      <td>0</td>\n",
       "    </tr>\n",
       "  </tbody>\n",
       "</table>\n",
       "</div>"
      ],
      "text/plain": [
       "           state state_name  positive  probable_cases   negative  total_test_results  hospitalized_currently  hospitalized_cumulative  in_icu_currently  in_icu_cumulative  recovered       last_update_et   death  death_confirmed  death_probable  positive_increase  total_test_results_increase  death_increase  hospitalized_increase\n",
       "date                                                                                                                                                                                                                                                                                                                                      \n",
       "2020-06-04    DE   Delaware    9746.0             NaN    56163.0             79033.0                   142.0                      NaN               NaN                NaN     5562.0  2020-06-03 18:00:00   483.0            425.0            58.0                 34                         1232               8                      0\n",
       "2020-11-13    UT       Utah  145789.0             NaN  1018942.0           1567347.0                   492.0                   6591.0             184.0             1294.0   100892.0  2020-11-13 13:34:00   701.0              NaN             NaN               2150                        15697              14                    104\n",
       "2020-08-02    OR     Oregon   18817.0             NaN   390799.0            644785.0                   208.0                   1607.0              65.0                NaN     3872.0  2020-08-01 03:01:00   325.0              NaN             NaN                325                         9366               3                      0\n",
       "2020-09-20    AZ    Arizona  214018.0          4317.0  1169906.0           2035326.0                   472.0                  21876.0             120.0                NaN        NaN  2020-09-20 00:00:00  5476.0           5184.0           292.0                467                         8384               9                     -6\n",
       "2020-04-06    MO   Missouri    2722.0             NaN    27113.0             31954.0                   439.0                      NaN               NaN                NaN        NaN  2020-04-06 16:28:00    39.0              NaN             NaN                355                         1103               5                      0"
      ]
     },
     "execution_count": 4,
     "metadata": {},
     "output_type": "execute_result"
    }
   ],
   "source": [
    "df_clean = pd.read_csv(\"clean_data_states_daily.csv\",index_col=0)\n",
    "df_clean.sample(5)"
   ]
  }
 ],
 "metadata": {
  "kernelspec": {
   "display_name": ".venv",
   "language": "python",
   "name": "python3"
  },
  "language_info": {
   "codemirror_mode": {
    "name": "ipython",
    "version": 3
   },
   "file_extension": ".py",
   "mimetype": "text/x-python",
   "name": "python",
   "nbconvert_exporter": "python",
   "pygments_lexer": "ipython3",
   "version": "3.13.2"
  }
 },
 "nbformat": 4,
 "nbformat_minor": 2
}
